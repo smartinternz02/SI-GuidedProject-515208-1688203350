{
 "cells": [
  {
   "cell_type": "markdown",
   "id": "53c7fc0b",
   "metadata": {},
   "source": [
    "## SmartBridge (AI) - Assignment 1\n",
    "\n",
    "### Mohamed Osman Zaid K B\n",
    "### 20BCE2671\n",
    "### VIT Vellore\n"
   ]
  },
  {
   "cell_type": "code",
   "execution_count": 1,
   "id": "4d2539c8",
   "metadata": {},
   "outputs": [
    {
     "name": "stdout",
     "output_type": "stream",
     "text": [
      "          0         1         2         3\n",
      "0  0.951150  0.009700  0.076524  0.644544\n",
      "1  0.434023  0.821964  0.698618  0.299823\n",
      "2  0.678226  0.957264  0.950686  0.039437\n",
      "3  0.739481  0.641018  0.975621  0.295317\n"
     ]
    }
   ],
   "source": [
    "import pandas as pd\n",
    "import numpy as np\n",
    "\n",
    "# Create a NumPy array with random values\n",
    "data = np.random.rand(4, 4)\n",
    "\n",
    "# Create a DataFrame using the NumPy array\n",
    "df = pd.DataFrame(data)\n",
    "\n",
    "print(df)"
   ]
  },
  {
   "cell_type": "code",
   "execution_count": 2,
   "id": "82b5c464",
   "metadata": {},
   "outputs": [
    {
     "name": "stdout",
     "output_type": "stream",
     "text": [
      "   Random value 1  Random value 2  Random value 3  Random value 4\n",
      "0        0.951150        0.009700        0.076524        0.644544\n",
      "1        0.434023        0.821964        0.698618        0.299823\n",
      "2        0.678226        0.957264        0.950686        0.039437\n",
      "3        0.739481        0.641018        0.975621        0.295317\n"
     ]
    }
   ],
   "source": [
    "# Rename the column names\n",
    "df = df.rename(columns={0: 'Random value 1', 1: 'Random value 2', 2: 'Random value 3', 3: 'Random value 4'})\n",
    "\n",
    "print(df)"
   ]
  },
  {
   "cell_type": "code",
   "execution_count": 3,
   "id": "2c16c929",
   "metadata": {},
   "outputs": [
    {
     "name": "stdout",
     "output_type": "stream",
     "text": [
      "       Random value 1  Random value 2  Random value 3  Random value 4\n",
      "count        4.000000        4.000000        4.000000        4.000000\n",
      "mean         0.700720        0.607487        0.675362        0.319780\n",
      "std          0.212800        0.419054        0.418373        0.248368\n",
      "min          0.434023        0.009700        0.076524        0.039437\n",
      "25%          0.617175        0.483189        0.543094        0.231347\n",
      "50%          0.708854        0.731491        0.824652        0.297570\n",
      "75%          0.792399        0.855789        0.956920        0.386003\n",
      "max          0.951150        0.957264        0.975621        0.644544\n"
     ]
    }
   ],
   "source": [
    "# Calculate the descriptive statistics\n",
    "statistics = df.describe()\n",
    "\n",
    "print(statistics)"
   ]
  },
  {
   "cell_type": "code",
   "execution_count": 4,
   "id": "85532b93",
   "metadata": {},
   "outputs": [
    {
     "name": "stdout",
     "output_type": "stream",
     "text": [
      "Null values:\n",
      "   Random value 1  Random value 2  Random value 3  Random value 4\n",
      "0           False           False           False           False\n",
      "1           False           False           False           False\n",
      "2           False           False           False           False\n",
      "3           False           False           False           False\n",
      "\n",
      "Data types of columns:\n",
      "Random value 1    float64\n",
      "Random value 2    float64\n",
      "Random value 3    float64\n",
      "Random value 4    float64\n",
      "dtype: object\n"
     ]
    }
   ],
   "source": [
    "# Check for null values\n",
    "null_values = df.isnull()\n",
    "\n",
    "# Find the data types of columns\n",
    "column_types = df.dtypes\n",
    "\n",
    "print(\"Null values:\")\n",
    "print(null_values)\n",
    "print(\"\\nData types of columns:\")\n",
    "print(column_types)"
   ]
  },
  {
   "cell_type": "code",
   "execution_count": 5,
   "id": "3b3f67c0",
   "metadata": {},
   "outputs": [
    {
     "name": "stdout",
     "output_type": "stream",
     "text": [
      "Using loc:\n",
      "   Random value 2  Random value 3\n",
      "0        0.009700        0.076524\n",
      "1        0.821964        0.698618\n",
      "2        0.957264        0.950686\n",
      "3        0.641018        0.975621\n"
     ]
    }
   ],
   "source": [
    "# Display columns using location method (loc)\n",
    "columns_loc = df.loc[:, ['Random value 2', 'Random value 3']]\n",
    "print(\"Using loc:\")\n",
    "print(columns_loc)\n"
   ]
  },
  {
   "cell_type": "code",
   "execution_count": 6,
   "id": "1be7a388",
   "metadata": {},
   "outputs": [
    {
     "name": "stdout",
     "output_type": "stream",
     "text": [
      "\n",
      "Using iloc:\n",
      "   Random value 2  Random value 3\n",
      "0        0.009700        0.076524\n",
      "1        0.821964        0.698618\n",
      "2        0.957264        0.950686\n",
      "3        0.641018        0.975621\n"
     ]
    }
   ],
   "source": [
    "# Display columns using index location method (iloc)\n",
    "columns_iloc = df.iloc[:, [1, 2]]\n",
    "print(\"\\nUsing iloc:\")\n",
    "print(columns_iloc)"
   ]
  },
  {
   "cell_type": "code",
   "execution_count": null,
   "id": "60564219",
   "metadata": {},
   "outputs": [],
   "source": []
  }
 ],
 "metadata": {
  "kernelspec": {
   "display_name": "Python 3 (ipykernel)",
   "language": "python",
   "name": "python3"
  },
  "language_info": {
   "codemirror_mode": {
    "name": "ipython",
    "version": 3
   },
   "file_extension": ".py",
   "mimetype": "text/x-python",
   "name": "python",
   "nbconvert_exporter": "python",
   "pygments_lexer": "ipython3",
   "version": "3.9.12"
  }
 },
 "nbformat": 4,
 "nbformat_minor": 5
}
