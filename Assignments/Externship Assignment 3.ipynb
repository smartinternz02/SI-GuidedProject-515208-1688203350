{
 "cells": [
  {
   "cell_type": "markdown",
   "id": "9f1602a6",
   "metadata": {},
   "source": [
    "## SmartBridge (AI) - Assignment 2\n",
    "\n",
    "### Mohamed Osman Zaid K B\n",
    "### 20BCE2671\n",
    "### VIT Vellore"
   ]
  },
  {
   "cell_type": "code",
   "execution_count": 1,
   "id": "faba8af9",
   "metadata": {},
   "outputs": [],
   "source": [
    "import os\n",
    "import cv2\n",
    "import numpy as np\n",
    "import glob\n",
    "import imutils\n",
    "from keras.layers import Conv2D,Conv3D,ConvLSTM2D,Conv3DTranspose,Dense,Flatten,MaxPooling2D,Dropout\n",
    "from keras.models import Sequential\n",
    "from keras.callbacks import ModelCheckpoint, EarlyStopping\n",
    "from sklearn.model_selection import train_test_split\n",
    "import tensorflow as tf\n",
    "import re"
   ]
  },
  {
   "cell_type": "code",
   "execution_count": 2,
   "id": "5070bc60",
   "metadata": {},
   "outputs": [
    {
     "name": "stdout",
     "output_type": "stream",
     "text": [
      "E:/SmartBridge Externship/Dataset/train_data//blasti\n",
      "E:/SmartBridge Externship/Dataset/train_data//bonegl\n",
      "E:/SmartBridge Externship/Dataset/train_data//brhkyt\n",
      "E:/SmartBridge Externship/Dataset/train_data//cbrtsh\n",
      "E:/SmartBridge Externship/Dataset/train_data//cmnmyn\n",
      "E:/SmartBridge Externship/Dataset/train_data//gretit\n",
      "E:/SmartBridge Externship/Dataset/train_data//hilpig\n",
      "E:/SmartBridge Externship/Dataset/train_data//himbul\n",
      "E:/SmartBridge Externship/Dataset/train_data//himgri\n",
      "E:/SmartBridge Externship/Dataset/train_data//hsparo\n",
      "E:/SmartBridge Externship/Dataset/train_data//indvul\n",
      "E:/SmartBridge Externship/Dataset/train_data//jglowl\n",
      "E:/SmartBridge Externship/Dataset/train_data//lbicrw\n",
      "E:/SmartBridge Externship/Dataset/train_data//mgprob\n",
      "E:/SmartBridge Externship/Dataset/train_data//rebimg\n",
      "E:/SmartBridge Externship/Dataset/train_data//wcrsrt\n"
     ]
    }
   ],
   "source": [
    "# Image pre-processing\n",
    "\n",
    "train_path = \"E:/SmartBridge Externship/Dataset\"\n",
    "train_images_path = \"E:/SmartBridge Externship/Dataset/train_data/\"\n",
    "\n",
    "X = []\n",
    "y = []\n",
    "\n",
    "z=1\n",
    "for i in os.listdir(train_images_path):\n",
    "    images = train_images_path + \"/\" + i\n",
    "    print(images)\n",
    "    for j in os.listdir(images):\n",
    "        path = f\"{images}/{j}\"\n",
    "        temp = cv2.imread(path)\n",
    "        temp = cv2.resize(temp, (227, 227)) \n",
    "        X.append(temp)\n",
    "        y.append(z)\n",
    "    z+=1\n",
    "\n",
    "\n",
    "X = np.array(X) / 255.0\n",
    "\n"
   ]
  },
  {
   "cell_type": "code",
   "execution_count": 3,
   "id": "e5b44f80",
   "metadata": {},
   "outputs": [],
   "source": [
    "X_train, y_train = X , y"
   ]
  },
  {
   "cell_type": "code",
   "execution_count": 4,
   "id": "d7b3ae6f",
   "metadata": {},
   "outputs": [
    {
     "name": "stdout",
     "output_type": "stream",
     "text": [
      "E:/SmartBridge Externship/Dataset/test_data//blasti\n",
      "E:/SmartBridge Externship/Dataset/test_data//bonegl\n",
      "E:/SmartBridge Externship/Dataset/test_data//brhkyt\n",
      "E:/SmartBridge Externship/Dataset/test_data//cbrtsh\n",
      "E:/SmartBridge Externship/Dataset/test_data//cmnmyn\n",
      "E:/SmartBridge Externship/Dataset/test_data//gretit\n",
      "E:/SmartBridge Externship/Dataset/test_data//hilpig\n",
      "E:/SmartBridge Externship/Dataset/test_data//himbul\n",
      "E:/SmartBridge Externship/Dataset/test_data//himgri\n",
      "E:/SmartBridge Externship/Dataset/test_data//hsparo\n",
      "E:/SmartBridge Externship/Dataset/test_data//indvul\n",
      "E:/SmartBridge Externship/Dataset/test_data//jglowl\n",
      "E:/SmartBridge Externship/Dataset/test_data//lbicrw\n",
      "E:/SmartBridge Externship/Dataset/test_data//mgprob\n",
      "E:/SmartBridge Externship/Dataset/test_data//rebimg\n",
      "E:/SmartBridge Externship/Dataset/test_data//wcrsrt\n"
     ]
    }
   ],
   "source": [
    "train_images_path = \"E:/SmartBridge Externship/Dataset/test_data/\"\n",
    "\n",
    "X = []\n",
    "y = []\n",
    "\n",
    "z=1\n",
    "for i in os.listdir(train_images_path):\n",
    "    images = train_images_path + \"/\" + i\n",
    "    print(images)\n",
    "    for j in os.listdir(images):\n",
    "        path = f\"{images}/{j}\"\n",
    "        temp = cv2.imread(path)\n",
    "        temp = cv2.resize(temp, (227, 227)) \n",
    "        X.append(temp)\n",
    "        y.append(z)\n",
    "    z+=1\n",
    "\n",
    "\n",
    "X = np.array(X) / 255.0\n",
    "\n",
    "X_test, y_test = X , y"
   ]
  },
  {
   "cell_type": "code",
   "execution_count": 5,
   "id": "5b3286bc",
   "metadata": {},
   "outputs": [],
   "source": [
    "y_train = tf.keras.utils.to_categorical(y_train)\n",
    "y_test = tf.keras.utils.to_categorical(y_test)"
   ]
  },
  {
   "cell_type": "code",
   "execution_count": 6,
   "id": "cac90295",
   "metadata": {},
   "outputs": [
    {
     "data": {
      "text/plain": [
       "array([[0., 1., 0., ..., 0., 0., 0.],\n",
       "       [0., 1., 0., ..., 0., 0., 0.],\n",
       "       [0., 1., 0., ..., 0., 0., 0.],\n",
       "       ...,\n",
       "       [0., 0., 0., ..., 0., 0., 1.],\n",
       "       [0., 0., 0., ..., 0., 0., 1.],\n",
       "       [0., 0., 0., ..., 0., 0., 1.]], dtype=float32)"
      ]
     },
     "execution_count": 6,
     "metadata": {},
     "output_type": "execute_result"
    }
   ],
   "source": [
    "y_test"
   ]
  },
  {
   "cell_type": "code",
   "execution_count": 7,
   "id": "dbf9157a",
   "metadata": {},
   "outputs": [
    {
     "data": {
      "text/plain": [
       "{1: 'blasti',\n",
       " 2: 'bonegl',\n",
       " 3: 'brhkyt',\n",
       " 4: 'cbrtsh',\n",
       " 5: 'cmnmyn',\n",
       " 6: 'gretit',\n",
       " 7: 'hilpig',\n",
       " 8: 'himbul',\n",
       " 9: 'himgri',\n",
       " 10: 'hsparo',\n",
       " 11: 'indvul',\n",
       " 12: 'jglowl',\n",
       " 13: 'lbicrw',\n",
       " 14: 'mgprob',\n",
       " 15: 'rebimg',\n",
       " 16: 'wcrsrt'}"
      ]
     },
     "execution_count": 7,
     "metadata": {},
     "output_type": "execute_result"
    }
   ],
   "source": [
    "train_images_path = \"E:/SmartBridge Externship/Dataset/train_data/\"\n",
    "z = 1\n",
    "category = {}\n",
    "for i in os.listdir(train_images_path):\n",
    "    category[z] = i\n",
    "    z+=1\n",
    "\n",
    "category"
   ]
  },
  {
   "cell_type": "code",
   "execution_count": 8,
   "id": "392f0584",
   "metadata": {},
   "outputs": [],
   "source": [
    "cnn_model_3 = Sequential()\n",
    "\n",
    "cnn_model_3.add(Conv2D(filters=64, kernel_size=2, padding='same', activation='relu', input_shape=(X_train.shape[1],X_train.shape[2],3))) \n",
    "cnn_model_3.add(MaxPooling2D(pool_size=(2,2) , strides =(1,1),  padding='valid' ))\n",
    "\n",
    "#cnn_model_3.add(Dropout(0.2))\n",
    "cnn_model_3.add(Conv2D(filters=32, kernel_size=2, padding='same', activation='relu'))\n",
    "cnn_model_3.add(MaxPooling2D(pool_size=2 , padding='valid'))\n",
    "#cnn_model_3.add(Dropout(0.3))\n",
    "\n",
    "cnn_model_3.add(Conv2D(filters=16, kernel_size=2, padding='same', activation='relu'))\n",
    "cnn_model_3.add(MaxPooling2D(pool_size=2 , padding='valid'))\n",
    "\n",
    "cnn_model_3.add(Flatten())\n",
    "cnn_model_3.add(Dense(256, activation='relu'))\n",
    "cnn_model_3.add(Dropout(0.5))\n",
    "cnn_model_3.add(Dense(17, activation='softmax'))\n",
    "\n"
   ]
  },
  {
   "cell_type": "code",
   "execution_count": 9,
   "id": "d29d92cc",
   "metadata": {},
   "outputs": [
    {
     "name": "stdout",
     "output_type": "stream",
     "text": [
      "Model: \"sequential\"\n",
      "_________________________________________________________________\n",
      " Layer (type)                Output Shape              Param #   \n",
      "=================================================================\n",
      " conv2d (Conv2D)             (None, 227, 227, 64)      832       \n",
      "                                                                 \n",
      " max_pooling2d (MaxPooling2D  (None, 226, 226, 64)     0         \n",
      " )                                                               \n",
      "                                                                 \n",
      " conv2d_1 (Conv2D)           (None, 226, 226, 32)      8224      \n",
      "                                                                 \n",
      " max_pooling2d_1 (MaxPooling  (None, 113, 113, 32)     0         \n",
      " 2D)                                                             \n",
      "                                                                 \n",
      " conv2d_2 (Conv2D)           (None, 113, 113, 16)      2064      \n",
      "                                                                 \n",
      " max_pooling2d_2 (MaxPooling  (None, 56, 56, 16)       0         \n",
      " 2D)                                                             \n",
      "                                                                 \n",
      " flatten (Flatten)           (None, 50176)             0         \n",
      "                                                                 \n",
      " dense (Dense)               (None, 256)               12845312  \n",
      "                                                                 \n",
      " dropout (Dropout)           (None, 256)               0         \n",
      "                                                                 \n",
      " dense_1 (Dense)             (None, 17)                4369      \n",
      "                                                                 \n",
      "=================================================================\n",
      "Total params: 12,860,801\n",
      "Trainable params: 12,860,801\n",
      "Non-trainable params: 0\n",
      "_________________________________________________________________\n"
     ]
    }
   ],
   "source": [
    "# Take a look at the model summary\n",
    "cnn_model_3.summary()"
   ]
  },
  {
   "cell_type": "code",
   "execution_count": 10,
   "id": "459ba2aa",
   "metadata": {},
   "outputs": [],
   "source": [
    "cnn_model_3.compile(loss='categorical_crossentropy',optimizer='adam',metrics=['accuracy'])"
   ]
  },
  {
   "cell_type": "code",
   "execution_count": 11,
   "id": "01110462",
   "metadata": {},
   "outputs": [
    {
     "name": "stdout",
     "output_type": "stream",
     "text": [
      "You must install pydot (`pip install pydot`) and install graphviz (see instructions at https://graphviz.gitlab.io/download/) for plot_model to work.\n"
     ]
    }
   ],
   "source": [
    "tf.keras.utils.plot_model(cnn_model_3, show_shapes=True, show_layer_names=True)\n"
   ]
  },
  {
   "cell_type": "code",
   "execution_count": 12,
   "id": "5f574ee9",
   "metadata": {},
   "outputs": [
    {
     "name": "stdout",
     "output_type": "stream",
     "text": [
      "Epoch 1/20\n",
      "5/5 [==============================] - 21s 4s/step - loss: 3.5253 - accuracy: 0.0533 - val_loss: 2.7660 - val_accuracy: 0.1720\n",
      "Epoch 2/20\n",
      "5/5 [==============================] - 19s 4s/step - loss: 2.6255 - accuracy: 0.1733 - val_loss: 2.7145 - val_accuracy: 0.1656\n",
      "Epoch 3/20\n",
      "5/5 [==============================] - 19s 4s/step - loss: 2.4768 - accuracy: 0.2200 - val_loss: 2.6869 - val_accuracy: 0.1783\n",
      "Epoch 4/20\n",
      "5/5 [==============================] - 20s 4s/step - loss: 2.3011 - accuracy: 0.2533 - val_loss: 2.7300 - val_accuracy: 0.1783\n",
      "Epoch 5/20\n",
      "5/5 [==============================] - 20s 4s/step - loss: 2.0982 - accuracy: 0.2933 - val_loss: 2.6864 - val_accuracy: 0.2102\n",
      "Epoch 6/20\n",
      "5/5 [==============================] - 19s 4s/step - loss: 1.8958 - accuracy: 0.3600 - val_loss: 2.8212 - val_accuracy: 0.1656\n",
      "Epoch 7/20\n",
      "5/5 [==============================] - 19s 4s/step - loss: 1.8404 - accuracy: 0.4000 - val_loss: 2.7164 - val_accuracy: 0.2038\n",
      "Epoch 8/20\n",
      "5/5 [==============================] - 19s 4s/step - loss: 1.5938 - accuracy: 0.5133 - val_loss: 2.8165 - val_accuracy: 0.2293\n",
      "Epoch 9/20\n",
      "5/5 [==============================] - 20s 4s/step - loss: 1.2610 - accuracy: 0.5533 - val_loss: 2.8046 - val_accuracy: 0.2293\n",
      "Epoch 10/20\n",
      "5/5 [==============================] - 19s 4s/step - loss: 1.0325 - accuracy: 0.7333 - val_loss: 3.2094 - val_accuracy: 0.1911\n",
      "Epoch 11/20\n",
      "5/5 [==============================] - 21s 4s/step - loss: 0.9136 - accuracy: 0.7067 - val_loss: 3.1223 - val_accuracy: 0.1847\n",
      "Epoch 12/20\n",
      "5/5 [==============================] - 23s 5s/step - loss: 0.9506 - accuracy: 0.7267 - val_loss: 3.2568 - val_accuracy: 0.1401\n",
      "Epoch 13/20\n",
      "5/5 [==============================] - 20s 4s/step - loss: 0.7861 - accuracy: 0.8333 - val_loss: 2.9468 - val_accuracy: 0.2166\n",
      "Epoch 14/20\n",
      "5/5 [==============================] - 20s 4s/step - loss: 0.6100 - accuracy: 0.8800 - val_loss: 2.9638 - val_accuracy: 0.2994\n",
      "Epoch 15/20\n",
      "5/5 [==============================] - 20s 4s/step - loss: 0.5116 - accuracy: 0.8800 - val_loss: 3.1410 - val_accuracy: 0.2739\n"
     ]
    }
   ],
   "source": [
    "callback = tf.keras.callbacks.EarlyStopping(monitor='val_loss', patience = 10,restore_best_weights=True,mode='min')\n",
    "\n",
    "cnn_history_3 = cnn_model_3.fit(X_train, y_train , batch_size = 32, epochs=15, validation_data=(X_test, y_test), callbacks=[callback])"
   ]
  },
  {
   "cell_type": "code",
   "execution_count": 94,
   "id": "9e1cad05",
   "metadata": {},
   "outputs": [],
   "source": [
    "Test = []\n",
    "temp = cv2.imread(\"E:/SmartBridge Externship/Dataset/2.jpg\")\n",
    "temp = cv2.resize(temp, (227, 227)) \n",
    "Test.append(temp)\n",
    "Test = np.array(Test) / 255.0"
   ]
  },
  {
   "cell_type": "code",
   "execution_count": 95,
   "id": "b80e9897",
   "metadata": {},
   "outputs": [
    {
     "name": "stdout",
     "output_type": "stream",
     "text": [
      "1/1 [==============================] - 0s 29ms/step\n"
     ]
    }
   ],
   "source": [
    "output = cnn_model_3.predict(Test)"
   ]
  },
  {
   "cell_type": "code",
   "execution_count": 96,
   "id": "a1015d00",
   "metadata": {},
   "outputs": [
    {
     "data": {
      "text/plain": [
       "array([[0.01956764, 0.0526729 , 0.04097802, 0.03852045, 0.06441832,\n",
       "        0.04879496, 0.05786587, 0.05341092, 0.11621263, 0.0488952 ,\n",
       "        0.08265392, 0.05178142, 0.05055154, 0.04513621, 0.07135288,\n",
       "        0.09341782, 0.06376939]], dtype=float32)"
      ]
     },
     "execution_count": 96,
     "metadata": {},
     "output_type": "execute_result"
    }
   ],
   "source": [
    "output"
   ]
  },
  {
   "cell_type": "code",
   "execution_count": 97,
   "id": "4a244a9b",
   "metadata": {},
   "outputs": [
    {
     "data": {
      "text/plain": [
       "'himbul'"
      ]
     },
     "execution_count": 97,
     "metadata": {},
     "output_type": "execute_result"
    }
   ],
   "source": [
    "category[output[0].argmax()]"
   ]
  },
  {
   "cell_type": "code",
   "execution_count": null,
   "id": "7a8e82df",
   "metadata": {},
   "outputs": [],
   "source": []
  }
 ],
 "metadata": {
  "kernelspec": {
   "display_name": "Python 3 (ipykernel)",
   "language": "python",
   "name": "python3"
  },
  "language_info": {
   "codemirror_mode": {
    "name": "ipython",
    "version": 3
   },
   "file_extension": ".py",
   "mimetype": "text/x-python",
   "name": "python",
   "nbconvert_exporter": "python",
   "pygments_lexer": "ipython3",
   "version": "3.9.12"
  }
 },
 "nbformat": 4,
 "nbformat_minor": 5
}
